{
 "cells": [
  {
   "cell_type": "code",
   "execution_count": null,
   "id": "b0bcd612",
   "metadata": {
    "vscode": {
     "languageId": "plaintext"
    }
   },
   "outputs": [],
   "source": [
    "!pip install ibm-cos-sdk pandas"
   ]
  },
  {
   "cell_type": "code",
   "execution_count": null,
   "id": "563815a8",
   "metadata": {
    "vscode": {
     "languageId": "plaintext"
    }
   },
   "outputs": [],
   "source": [
    "\n",
    "import ibm_boto3\n",
    "from botocore.client import Config\n",
    "import pandas as pd\n",
    "import types\n",
    "import time\n",
    "from ibm_watson_machine_learning.foundation_models import Model\n",
    "from ibm_watson_machine_learning.metanames import GenTextParamsMetaNames as Params\n",
    "\n",
    "storage = ibm_boto3.client(\n",
    "    service_name='s3',\n",
    "    ibm_api_key_id='CKEbkcBVEyB2BxKKxggRzWC_hoDfYcw15eJjzZfcVDyq',\n",
    "    ibm_auth_endpoint='https://iam.cloud.ibm.com/oidc/token',\n",
    "    config=Config(signature_version='oauth'),\n",
    "    endpoint_url='https://s3.us-south.cloud-object-storage.appdomain.cloud'\n",
    ")\n",
    "\n",
    "bucket_name = 'bucket-5eo7j1vg91wj5n6'\n",
    "csv_file_key = 'college_feedback.csv'\n",
    "\n",
    "csv_stream = storage.get_object(Bucket=bucket_name, Key=csv_file_key)['Body']\n",
    "if not hasattr(csv_stream, 'iter'):\n",
    "    def _iter(self): return 0\n",
    "    csv_stream.iter = types.MethodType(_iter, csv_stream)\n",
    "\n",
    "df = pd.read_csv(csv_stream)\n",
    "\n",
    "wml_credentials = {\n",
    "    \"url\": \"https://us-south.ml.cloud.ibm.com\",\n",
    "    \"apikey\": \"qBwroANVb2onAG4Mva7fsLh-reNWgAOGkerq7BXT8iGN\"\n",
    "}\n",
    "\n",
    "project_id = \"bf003078-b30e-4bf0-813b-125bc42d1817\"\n",
    "\n",
    "text_model = Model(\n",
    "    model_id=\"google/flan-t5-xxl\",\n",
    "    params={Params.MAX_NEW_TOKENS: 10},\n",
    "    credentials=wml_credentials,\n",
    "    project_id=project_id\n",
    ")\n",
    "\n",
    "prompt_base = \"\"\"\n",
    "Categorize this student feedback into one of the following groups:\n",
    "Academics, Facilities, or Administration.\n",
    "\n",
    "Examples:\n",
    "\"The instructors explain topics with clarity.\" → Academics\n",
    "\"The syllabus needs to be reduced in size.\" → Academics\n",
    "\"The hostel bathrooms are cleaned daily.\" → Facilities\n",
    "\"The food in the canteen lacks hygiene.\" → Facilities\n",
    "\"Staff members are helpful with queries.\" → Administration\n",
    "\"There are delays in document processing.\" → Administration\n",
    "\n",
    "Now categorize this:\n",
    "\"{input}\" →\n",
    "\"\"\"\n",
    "\n",
    "categories = []\n",
    "for text in df['Feedback']:\n",
    "    full_prompt = prompt_base.replace(\"{input}\", text)\n",
    "    try:\n",
    "        result = text_model.generate_text(prompt=full_prompt)\n",
    "        output = \"\"\n",
    "        if isinstance(result, dict):\n",
    "            output = result.get(\"generated_text\", \"\")\n",
    "            if not output and \"results\" in result:\n",
    "                output = result[\"results\"][0][\"generated_text\"]\n",
    "        elif isinstance(result, str):\n",
    "            output = result\n",
    "        categories.append(output.strip())\n",
    "    except:\n",
    "        categories.append(\"Error\")\n",
    "    time.sleep(1)\n",
    "\n",
    "df['Category'] = categories\n",
    "output_file = f\"feedback_output_{int(time.time())}.csv\"\n",
    "df.to_csv(output_file, index=False)\n",
    "\n",
    "storage.upload_file(Filename=output_file, Bucket=bucket_name, Key=output_file)\n",
    "print(f\"Output uploaded: {output_file}\")\n"
   ]
  }
 ],
 "metadata": {
  "language_info": {
   "name": "python"
  }
 },
 "nbformat": 4,
 "nbformat_minor": 5
}
